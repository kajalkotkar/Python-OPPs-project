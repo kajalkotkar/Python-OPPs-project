{
  "cells": [
    {
      "cell_type": "code",
      "execution_count": null,
      "id": "c8da1785",
      "metadata": {
        "id": "c8da1785"
      },
      "outputs": [],
      "source": []
    },
    {
      "cell_type": "code",
      "execution_count": null,
      "id": "0c235e7b",
      "metadata": {
        "id": "0c235e7b",
        "outputId": "0ea98e29-3896-4eef-bcfb-7a1b37f576b1"
      },
      "outputs": [
        {
          "name": "stdout",
          "output_type": "stream",
          "text": [
            "Welcome to SBI Bank,New Mumbai\n",
            "Enter your name: s\n",
            "Enter Pan card num : k\n",
            "Enter your Address: m\n",
            "Hello username cong! your Account created Successfully\n",
            "\n",
            "Please select  any option: \n",
            "\n",
            "1.deposit\n",
            "2.withdraw\n",
            "3.getbalance\n",
            "4.stop\n",
            "1\n",
            "Enter Deposited amount 15500\n",
            "15500.0 deposited successfully\n",
            "\n",
            "Please select  any option: \n",
            "\n",
            "1.deposit\n",
            "2.withdraw\n",
            "3.getbalance\n",
            "4.stop\n",
            "2\n",
            "Enter Withdraw amount 5000\n",
            "5000 withdraw successfully\n",
            "\n",
            "Please select  any option: \n",
            "\n",
            "1.deposit\n",
            "2.withdraw\n",
            "3.getbalance\n",
            "4.stop\n",
            "3\n",
            "Your account balance is 10500.0\n",
            "\n",
            "Please select  any option: \n",
            "\n",
            "1.deposit\n",
            "2.withdraw\n",
            "3.getbalance\n",
            "4.stop\n",
            "5\n",
            "Invalid option\n",
            "\n",
            "Please select  any option: \n",
            "\n",
            "1.deposit\n",
            "2.withdraw\n",
            "3.getbalance\n",
            "4.stop\n",
            "4\n",
            "Thanks for using SBI bank\n"
          ]
        }
      ],
      "source": [
        "\n",
        "\n",
        "class Bank:\n",
        "    bankname=\"SBI Bank\"\n",
        "    branch=\"New Mumbai\"\n",
        "\n",
        "    #create account\n",
        "    def __init__(self,username,pan,address):\n",
        "        self.username=username\n",
        "        self.pan=pan\n",
        "        self.address=address\n",
        "        self.balance=0.0\n",
        "        print(f'Hello {self.username} cong! your Account created Successfully')\n",
        "\n",
        "    def deposit(self,amount):\n",
        "        self.balance=self.balance+amount\n",
        "        print(f'{amount} deposited successfully')\n",
        "\n",
        "    def withdraw(self,amount):\n",
        "        if amount<self.balance:\n",
        "            self.balance=self.balance-amount\n",
        "            print(f'{amount} withdraw successfully')\n",
        "        else:\n",
        "            print('Not enough balance!')\n",
        "\n",
        "    def getbalance(self):\n",
        "        print(f'Your account balance is {self.balance}')\n",
        "\n",
        "print(f\"Welcome to {Bank.bankname},{Bank.branch}\")\n",
        "username=input(\"Enter your name: \")\n",
        "pan=input(\"Enter Pan card num : \")\n",
        "address=input(\"Enter your Address: \")\n",
        "\n",
        "b=Bank(\"username\",\"pan\",\"address\")\n",
        "\n",
        "while True:\n",
        "    print(\"\\nPlease select  any option: \")\n",
        "    print('\\n1.deposit\\n2.withdraw\\n3.getbalance\\n4.stop')\n",
        "    option=int(input(\"\"))\n",
        "\n",
        "    if option==1:\n",
        "        amount=float(input(\"Enter Deposited amount \"))\n",
        "        b.deposit(amount)\n",
        "\n",
        "    elif option==2:\n",
        "        amount=int(input(\"Enter Withdraw amount \"))\n",
        "        b.withdraw(amount)\n",
        "\n",
        "    elif option==3:\n",
        "        b.getbalance()\n",
        "\n",
        "    elif option==4:\n",
        "        print(\"Thanks for using SBI bank\")\n",
        "        break\n",
        "    else:\n",
        "        print(\"Invalid option\")\n",
        "\n",
        "\n"
      ]
    },
    {
      "cell_type": "code",
      "execution_count": null,
      "id": "bd8f0def",
      "metadata": {
        "id": "bd8f0def"
      },
      "outputs": [],
      "source": []
    },
    {
      "cell_type": "code",
      "execution_count": null,
      "id": "63dc8a31",
      "metadata": {
        "id": "63dc8a31",
        "outputId": "ec4b0c83-e3cb-48d5-d3b6-a4292a8fd7ca"
      },
      "outputs": [
        {
          "name": "stdout",
          "output_type": "stream",
          "text": [
            "Welcome to SBI Bank,New Mumbai\n",
            "Enter your name: Santosh K\n",
            "Enter Pan card num : CGPJ154K\n",
            "Enter your Address: D-65,Sharada CHS,Kalamboli\n",
            "Hello cong! your Account created Successfully\n"
          ]
        }
      ],
      "source": [
        "class Bank:\n",
        "    bankname=\"SBI Bank\"\n",
        "    branch=\"New Mumbai\"\n",
        "\n",
        "    #create account\n",
        "    def __init__(self,username,pan,address):\n",
        "        self.username=username\n",
        "        self.pan=pan\n",
        "        self.address=address\n",
        "        self.balance=0.0  #set account balance to 0.0\n",
        "        print(f'Hello cong! your Account created Successfully')\n",
        "\n",
        "print(f\"Welcome to {Bank.bankname},{Bank.branch}\")\n",
        "#collect user data for account creation\n",
        "username=input(\"Enter your name: \")\n",
        "pan=input(\"Enter Pan card num : \")\n",
        "address=input(\"Enter your Address: \")\n",
        "\n",
        "b=Bank(\"username\",\"pan\",\"address\")  #object creation based on user provided data\n"
      ]
    },
    {
      "cell_type": "code",
      "execution_count": null,
      "id": "9270185f",
      "metadata": {
        "id": "9270185f"
      },
      "outputs": [],
      "source": []
    }
  ],
  "metadata": {
    "kernelspec": {
      "display_name": "Python 3 (ipykernel)",
      "language": "python",
      "name": "python3"
    },
    "language_info": {
      "codemirror_mode": {
        "name": "ipython",
        "version": 3
      },
      "file_extension": ".py",
      "mimetype": "text/x-python",
      "name": "python",
      "nbconvert_exporter": "python",
      "pygments_lexer": "ipython3",
      "version": "3.9.13"
    },
    "colab": {
      "provenance": []
    }
  },
  "nbformat": 4,
  "nbformat_minor": 5
}